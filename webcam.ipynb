{
 "cells": [
  {
   "cell_type": "code",
   "execution_count": 5,
   "id": "f19a5b6c-ef67-487c-b4ed-e2b801c4f8ea",
   "metadata": {},
   "outputs": [],
   "source": [
    "import os\n",
    "import datetime\n",
    "import time\n",
    "\n",
    "import cv2\n",
    "from pyzbar.pyzbar import decode\n",
    "import matplotlib.pyplot as plt\n",
    "import numpy as np\n",
    "\n",
    "\n",
    "with open('./whitelist.txt', 'r') as f:\n",
    "    authorized_users = [l[:-1] for l in f.readlines() if len(l) > 2]\n",
    "    f.close()\n",
    "\n",
    "log_path = './log.txt'\n",
    "\n",
    "cap = cv2.VideoCapture(2)\n",
    "\n",
    "most_recent_access = {}\n",
    "\n",
    "time_between_logs_th = 5\n",
    "\n",
    "while True:\n",
    "\n",
    "    ret, frame = cap.read()\n",
    "\n",
    "    qr_info = decode(frame)\n",
    "\n",
    "    if len(qr_info) > 0:\n",
    "\n",
    "        qr = qr_info[0]\n",
    "\n",
    "        data = qr.data\n",
    "        rect = qr.rect\n",
    "        polygon = qr.polygon\n",
    "\n",
    "        if data.decode() in authorized_users:\n",
    "            cv2.putText(frame, 'ACCESS GRANTED', (rect.left, rect.top - 15), cv2.FONT_HERSHEY_SIMPLEX, 1, (0, 255, 0), 3)\n",
    "            if data.decode() not in most_recent_access.keys() \\\n",
    "                    or time.time() - most_recent_access[data.decode()] > time_between_logs_th:\n",
    "                most_recent_access[data.decode()] = time.time()\n",
    "                with open(log_path, 'a') as f:\n",
    "                    f.write('{},{}\\n'.format(data.decode(), datetime.datetime.now()))\n",
    "                    f.close()\n",
    "\n",
    "        else:\n",
    "            cv2.putText(frame, 'ACCESS DENIED', (rect.left, rect.top - 15), cv2.FONT_HERSHEY_SIMPLEX, 1, (0, 0, 255), 3)\n",
    "\n",
    "        frame = cv2.rectangle(frame, (rect.left, rect.top), (rect.left + rect.width, rect.top + rect.height),\n",
    "                            (0, 255, 0), 5)\n",
    "\n",
    "        frame = cv2.polylines(frame, [np.array(polygon)], True, (255, 0, 0), 5)\n",
    "\n",
    "    cv2.imshow('webcam', frame)\n",
    "\n",
    "    if cv2.waitKey(1) & 0xFF == ord('q'):\n",
    "        break\n",
    "\n",
    "cap.release()\n",
    "cv2.destroyAllWindows()"
   ]
  },
  {
   "cell_type": "code",
   "execution_count": null,
   "id": "cdbc68ee-dc88-4f35-8276-2493eb1c8a39",
   "metadata": {},
   "outputs": [],
   "source": []
  },
  {
   "cell_type": "code",
   "execution_count": null,
   "id": "41f2f22b-0934-4283-9dd3-655762883b58",
   "metadata": {},
   "outputs": [],
   "source": []
  },
  {
   "cell_type": "code",
   "execution_count": null,
   "id": "74f70a63-e328-42e6-bd10-7c828ceabd37",
   "metadata": {},
   "outputs": [],
   "source": []
  }
 ],
 "metadata": {
  "kernelspec": {
   "display_name": "Python 3 (ipykernel)",
   "language": "python",
   "name": "python3"
  },
  "language_info": {
   "codemirror_mode": {
    "name": "ipython",
    "version": 3
   },
   "file_extension": ".py",
   "mimetype": "text/x-python",
   "name": "python",
   "nbconvert_exporter": "python",
   "pygments_lexer": "ipython3",
   "version": "3.12.0"
  }
 },
 "nbformat": 4,
 "nbformat_minor": 5
}

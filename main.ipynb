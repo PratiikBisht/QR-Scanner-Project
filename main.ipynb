{
 "cells": [
  {
   "cell_type": "code",
   "execution_count": null,
   "id": "c7d92ec8-1759-495c-bb99-9cbb536d56cc",
   "metadata": {},
   "outputs": [],
   "source": [
    "import os\n",
    "\n",
    "import cv2\n",
    "from pyzbar.pyzbar import decode\n",
    "import matplotlib.pyplot as plt\n",
    "import numpy as np\n",
    "\n",
    "\n",
    "input_dir = 'Image /folder/path of your device'\n",
    "\n",
    "for j in sorted(os.listdir(input_dir)):\n",
    "    img = cv2.imread(os.path.join(input_dir, j))\n",
    "\n",
    "    qr_info = decode(img)\n",
    "\n",
    "    for qr in qr_info:\n",
    "\n",
    "        data = qr.data\n",
    "        rect = qr.rect\n",
    "        polygon = qr.polygon\n",
    "\n",
    "        print(data)\n",
    "        print(rect)\n",
    "        print(polygon)\n",
    "\n",
    "        img = cv2.rectangle(img, (rect.left, rect.top), (rect.left + rect.width, rect.top + rect.height),\n",
    "                            (0, 255, 0), 5)\n",
    "\n",
    "        img = cv2.polylines(img, [np.array(polygon)], True, (255, 0, 0), 5)\n",
    "\n",
    "        plt.imshow(cv2.cvtColor(img, cv2.COLOR_BGR2RGB))\n",
    "        plt.show()"
   ]
  }
 ],
 "metadata": {
  "kernelspec": {
   "display_name": "Python 3 (ipykernel)",
   "language": "python",
   "name": "python3"
  },
  "language_info": {
   "codemirror_mode": {
    "name": "ipython",
    "version": 3
   },
   "file_extension": ".py",
   "mimetype": "text/x-python",
   "name": "python",
   "nbconvert_exporter": "python",
   "pygments_lexer": "ipython3",
   "version": "3.12.0"
  }
 },
 "nbformat": 4,
 "nbformat_minor": 5
}
